{
 "cells": [
  {
   "cell_type": "markdown",
   "id": "a8cdf134",
   "metadata": {},
   "source": [
    "**Universidad Autónoma de Chihuahua**\n",
    "\n",
    "***Facultad de Ingeniería***\n",
    "\n",
    "---\n",
    "### End-to-End Machine Learning Project\n",
    "\n",
    "***Data Science***\n",
    "\n",
    "**Profesor Dr. Jesús Roberto López Santillán**\n",
    "\n",
    "---\n",
    "\n",
    "***8CC2***\n",
    "\n",
    "**Julián Terán Vázquez (329748)**\n",
    "\n",
    "**4 de marzo de 2022**\n",
    "\n",
    "---\n",
    "\n",
    "En este proyecto, recorreremos un proyecto de ejemplo de principio a fin, simulando ser un científico de datos recién contratado en una empresa inmobiliaria.\n",
    "\n",
    "La principal tarea que abordaremos es construir un modelo de precios de la vivienda en California utilizando los datos del censo de California. Estos datos tienen métricas como la población, los ingresos medios, el precio medio de la vivienda, etc. para cada grupo de bloques en California. Nuestro modelo debe aprender de estos datos y ser capaz de predecir el precio medio de la vivienda en cualquier distrito, dados todos los demás parámetros.\n",
    "\n",
    "---\n",
    "Esta es la función que utilizaremos para obtener los datos:"
   ]
  },
  {
   "cell_type": "code",
   "execution_count": 17,
   "id": "f20b31a9",
   "metadata": {},
   "outputs": [],
   "source": [
    "import os\n",
    "import tarfile\n",
    "from six.moves import urllib\n",
    "\n",
    "DOWNLOAD_ROOT = \"https://raw.githubusercontent.com/ageron/handson-ml2/master/\"\n",
    "HOUSING_PATH = \"datasets/housing\"\n",
    "HOUSING_URL = DOWNLOAD_ROOT + HOUSING_PATH + \"/housing.tgz\"\n",
    "\n",
    "# Se crea un directorio datasets/housing en su espacio de trabajo, \n",
    "# se descarga el archivo housing.tgz y se extrae el housing.csv de este directorio.\n",
    "def fetch_housing_data(housing_url=HOUSING_URL, housing_path=HOUSING_PATH):\n",
    "    if not os.path.isdir(housing_path):\n",
    "        os.makedirs(housing_path)\n",
    "    tgz_path = os.path.join(housing_path, \"housing.tgz\")\n",
    "    urllib.request.urlretrieve(housing_url, tgz_path)\n",
    "    housing_tgz = tarfile.open(tgz_path)\n",
    "    housing_tgz.extractall(path=housing_path)\n",
    "    housing_tgz.close()"
   ]
  },
  {
   "cell_type": "markdown",
   "id": "0a8e414b",
   "metadata": {},
   "source": [
    "Ahora vamos a cargar los datos usando Pandas."
   ]
  },
  {
   "cell_type": "code",
   "execution_count": 18,
   "id": "bc73e987",
   "metadata": {},
   "outputs": [
    {
     "data": {
      "text/html": [
       "<div>\n",
       "<style scoped>\n",
       "    .dataframe tbody tr th:only-of-type {\n",
       "        vertical-align: middle;\n",
       "    }\n",
       "\n",
       "    .dataframe tbody tr th {\n",
       "        vertical-align: top;\n",
       "    }\n",
       "\n",
       "    .dataframe thead th {\n",
       "        text-align: right;\n",
       "    }\n",
       "</style>\n",
       "<table border=\"1\" class=\"dataframe\">\n",
       "  <thead>\n",
       "    <tr style=\"text-align: right;\">\n",
       "      <th></th>\n",
       "      <th>longitude</th>\n",
       "      <th>latitude</th>\n",
       "      <th>housing_median_age</th>\n",
       "      <th>total_rooms</th>\n",
       "      <th>total_bedrooms</th>\n",
       "      <th>population</th>\n",
       "      <th>households</th>\n",
       "      <th>median_income</th>\n",
       "      <th>median_house_value</th>\n",
       "      <th>ocean_proximity</th>\n",
       "    </tr>\n",
       "  </thead>\n",
       "  <tbody>\n",
       "    <tr>\n",
       "      <th>0</th>\n",
       "      <td>-122.23</td>\n",
       "      <td>37.88</td>\n",
       "      <td>41.0</td>\n",
       "      <td>880.0</td>\n",
       "      <td>129.0</td>\n",
       "      <td>322.0</td>\n",
       "      <td>126.0</td>\n",
       "      <td>8.3252</td>\n",
       "      <td>452600.0</td>\n",
       "      <td>NEAR BAY</td>\n",
       "    </tr>\n",
       "    <tr>\n",
       "      <th>1</th>\n",
       "      <td>-122.22</td>\n",
       "      <td>37.86</td>\n",
       "      <td>21.0</td>\n",
       "      <td>7099.0</td>\n",
       "      <td>1106.0</td>\n",
       "      <td>2401.0</td>\n",
       "      <td>1138.0</td>\n",
       "      <td>8.3014</td>\n",
       "      <td>358500.0</td>\n",
       "      <td>NEAR BAY</td>\n",
       "    </tr>\n",
       "    <tr>\n",
       "      <th>2</th>\n",
       "      <td>-122.24</td>\n",
       "      <td>37.85</td>\n",
       "      <td>52.0</td>\n",
       "      <td>1467.0</td>\n",
       "      <td>190.0</td>\n",
       "      <td>496.0</td>\n",
       "      <td>177.0</td>\n",
       "      <td>7.2574</td>\n",
       "      <td>352100.0</td>\n",
       "      <td>NEAR BAY</td>\n",
       "    </tr>\n",
       "    <tr>\n",
       "      <th>3</th>\n",
       "      <td>-122.25</td>\n",
       "      <td>37.85</td>\n",
       "      <td>52.0</td>\n",
       "      <td>1274.0</td>\n",
       "      <td>235.0</td>\n",
       "      <td>558.0</td>\n",
       "      <td>219.0</td>\n",
       "      <td>5.6431</td>\n",
       "      <td>341300.0</td>\n",
       "      <td>NEAR BAY</td>\n",
       "    </tr>\n",
       "    <tr>\n",
       "      <th>4</th>\n",
       "      <td>-122.25</td>\n",
       "      <td>37.85</td>\n",
       "      <td>52.0</td>\n",
       "      <td>1627.0</td>\n",
       "      <td>280.0</td>\n",
       "      <td>565.0</td>\n",
       "      <td>259.0</td>\n",
       "      <td>3.8462</td>\n",
       "      <td>342200.0</td>\n",
       "      <td>NEAR BAY</td>\n",
       "    </tr>\n",
       "  </tbody>\n",
       "</table>\n",
       "</div>"
      ],
      "text/plain": [
       "   longitude  latitude  housing_median_age  total_rooms  total_bedrooms  \\\n",
       "0    -122.23     37.88                41.0        880.0           129.0   \n",
       "1    -122.22     37.86                21.0       7099.0          1106.0   \n",
       "2    -122.24     37.85                52.0       1467.0           190.0   \n",
       "3    -122.25     37.85                52.0       1274.0           235.0   \n",
       "4    -122.25     37.85                52.0       1627.0           280.0   \n",
       "\n",
       "   population  households  median_income  median_house_value ocean_proximity  \n",
       "0       322.0       126.0         8.3252            452600.0        NEAR BAY  \n",
       "1      2401.0      1138.0         8.3014            358500.0        NEAR BAY  \n",
       "2       496.0       177.0         7.2574            352100.0        NEAR BAY  \n",
       "3       558.0       219.0         5.6431            341300.0        NEAR BAY  \n",
       "4       565.0       259.0         3.8462            342200.0        NEAR BAY  "
      ]
     },
     "execution_count": 18,
     "metadata": {},
     "output_type": "execute_result"
    }
   ],
   "source": [
    "import pandas as pd\n",
    "\n",
    "def load_housing_data(housing_path=HOUSING_PATH):\n",
    "    csv_path = os.path.join(housing_path, \"housing.csv\")\n",
    "    return pd.read_csv(csv_path)\n",
    "\n",
    "housing = load_housing_data()\n",
    "housing.head()"
   ]
  },
  {
   "cell_type": "markdown",
   "id": "8f845be3",
   "metadata": {},
   "source": [
    "El siguiente código crea un atributo de categoría de ingresos dividiendo la mediana de los ingresos por 1,5 (para limitar el número de categorías de ingresos), y redondeando con `ceil` (para tener categorías discretas), y luego uniendo todas las categorías mayores de 5 en la categoría 5:"
   ]
  },
  {
   "cell_type": "code",
   "execution_count": 19,
   "id": "0ff9b608",
   "metadata": {},
   "outputs": [],
   "source": [
    "import numpy as np\n",
    "\n",
    "housing[\"income_cat\"] = np.ceil(housing[\"median_income\"] / 1.5)\n",
    "housing[\"income_cat\"].where(housing[\"income_cat\"] < 5, 5.0, inplace=True)"
   ]
  },
  {
   "cell_type": "markdown",
   "id": "e9c2a622",
   "metadata": {},
   "source": [
    "Ahora estamos listos para hacer un muestreo estratificado basado en la categoría de ingresos. \n",
    "\n",
    "Para ello podemos utilizar la clase `StratifiedShuffleSplit` de Scikit-Learn:"
   ]
  },
  {
   "cell_type": "code",
   "execution_count": 20,
   "id": "549dcffd",
   "metadata": {},
   "outputs": [],
   "source": [
    "from sklearn.model_selection import StratifiedShuffleSplit\n",
    "\n",
    "split = StratifiedShuffleSplit(n_splits=1, test_size=0.2, random_state=42)\n",
    "for train_index, test_index in split.split(housing, housing[\"income_cat\"]):\n",
    "    strat_train_set = housing.loc[train_index]\n",
    "    strat_test_set = housing.loc[test_index]"
   ]
  },
  {
   "cell_type": "markdown",
   "id": "7efeaed8",
   "metadata": {},
   "source": [
    "Ahora debemos eliminar el atributo `income_cat` para que los datos vuelvan a su estado original:"
   ]
  },
  {
   "cell_type": "code",
   "execution_count": 21,
   "id": "5c03ab03",
   "metadata": {},
   "outputs": [],
   "source": [
    "for set in (strat_train_set, strat_test_set):\n",
    "    set.drop([\"income_cat\"], axis=1, inplace=True)"
   ]
  },
  {
   "cell_type": "markdown",
   "id": "e258abfc",
   "metadata": {},
   "source": [
    "El set es bastante pequeño, así que podemos trabajar directamente en él.\n",
    "\n",
    "Creemos una copia para poder manipularlo sin dañar el training set:"
   ]
  },
  {
   "cell_type": "code",
   "execution_count": 22,
   "id": "5e32a853",
   "metadata": {},
   "outputs": [],
   "source": [
    "housing = strat_train_set.copy()"
   ]
  },
  {
   "cell_type": "markdown",
   "id": "7aff2411",
   "metadata": {},
   "source": [
    "Como hay información geográfica (latitud y longitud), es una buena idea crear un gráfico de dispersión de todos los distritos para visualizar los datos."
   ]
  },
  {
   "cell_type": "code",
   "execution_count": 23,
   "id": "dbb5fd02",
   "metadata": {},
   "outputs": [
    {
     "data": {
      "text/plain": [
       "<matplotlib.legend.Legend at 0x1ef20368550>"
      ]
     },
     "execution_count": 23,
     "metadata": {},
     "output_type": "execute_result"
    },
    {
     "data": {
      "image/png": "[encoded data removed]",
      "text/plain": [
       "<Figure size 432x288 with 2 Axes>"
      ]
     },
     "metadata": {
      "needs_background": "light"
     },
     "output_type": "display_data"
    }
   ],
   "source": [
    "%matplotlib inline\n",
    "import matplotlib.pyplot as plt\n",
    "\n",
    "# El valor del parámetro alpha (0.5) hace que sea mucho más fácil\n",
    "# visualizar los lugares donde hay una alta densidad de puntos de datos.\n",
    "\n",
    "# Utilizaremos un mapa de colores predefinido (parámetro cmap) llamado jet, \n",
    "# que va del azul (precios bajos) al rojo (precios altos).\n",
    "\n",
    "housing.plot(kind=\"scatter\", x=\"longitude\", y=\"latitude\", alpha=0.5,\n",
    "             s=housing[\"population\"]/100, label=\"population\",\n",
    "    c=\"median_house_value\", cmap=plt.get_cmap(\"jet\"), colorbar=True\n",
    ")\n",
    "\n",
    "plt.legend()\n",
    "\n",
    "# El radio de cada círculo (parámetro s) representa la población del distrito,\n",
    "# el color representa el precio (parámetro c)."
   ]
  },
  {
   "cell_type": "markdown",
   "id": "21716f8f",
   "metadata": {},
   "source": [
    "---\n",
    "\n",
    "Es hora de preparar los datos para nuestros algoritmos de Machine Learning.  \n",
    "\n",
    "Pero primero volveremos a un training set limpio (copiando `strat_train_set` una vez más), y separaremos los predictores y las etiquetas."
   ]
  },
  {
   "cell_type": "code",
   "execution_count": 24,
   "id": "0e8b5f9f",
   "metadata": {},
   "outputs": [],
   "source": [
    "housing = strat_train_set.drop(\"median_house_value\", axis=1)\n",
    "housing_labels = strat_train_set[\"median_house_value\"].copy()"
   ]
  },
  {
   "cell_type": "markdown",
   "id": "75367a9d",
   "metadata": {},
   "source": [
    "La mayoría de los algoritmos de aprendizaje automático no pueden trabajar con características que faltan, así que vamos a crear algunas funciones para que se ocupen de ellas.\n",
    "\n",
    "Scikit-Learn proporciona una clase muy útil para ocuparse de los valores perdidos: `Imputer`."
   ]
  },
  {
   "cell_type": "code",
   "execution_count": 25,
   "id": "419a5c0b",
   "metadata": {},
   "outputs": [],
   "source": [
    "from sklearn.impute import SimpleImputer\n",
    "\n",
    "imputer = SimpleImputer(strategy=\"median\")"
   ]
  },
  {
   "cell_type": "markdown",
   "id": "0ae13b0a",
   "metadata": {},
   "source": [
    "Como la mediana sólo puede calcularse sobre atributos numéricos, necesitamos crear una copia de los datos sin el atributo de texto `ocean_proximity`:"
   ]
  },
  {
   "cell_type": "code",
   "execution_count": 26,
   "id": "c286c599",
   "metadata": {},
   "outputs": [],
   "source": [
    "housing_num = housing.drop(\"ocean_proximity\", axis=1)"
   ]
  },
  {
   "cell_type": "markdown",
   "id": "87251a79",
   "metadata": {},
   "source": [
    "Ahora podemos ajustar la instancia del `Imputer` a los datos de entrenamiento utilizando el método `fit()`:"
   ]
  },
  {
   "cell_type": "code",
   "execution_count": 27,
   "id": "9d7dec26",
   "metadata": {},
   "outputs": [
    {
     "data": {
      "text/plain": [
       "SimpleImputer(strategy='median')"
      ]
     },
     "execution_count": 27,
     "metadata": {},
     "output_type": "execute_result"
    }
   ],
   "source": [
    "imputer.fit(housing_num)\n",
    "\n",
    "# El Imputer calcula la mediana de cada atributo\n",
    "# y almacena el resultado en su variable de instancia statistics_."
   ]
  },
  {
   "cell_type": "markdown",
   "id": "65e02e66",
   "metadata": {},
   "source": [
    "Ahora podemos utilizar este `Imputer` \"entrenado\" para transformar el training set sustituyendo los valores perdidos por las medianas aprendidas:"
   ]
  },
  {
   "cell_type": "code",
   "execution_count": 28,
   "id": "1c30b32c",
   "metadata": {},
   "outputs": [],
   "source": [
    "X = imputer.transform(housing_num)"
   ]
  },
  {
   "cell_type": "markdown",
   "id": "b68bf6a4",
   "metadata": {},
   "source": [
    "Anteriormente hemos omitido el atributo categórico `ocean_proximity` porque es un atributo de texto, por lo que no podemos calcular su mediana. La mayoría de los algoritmos de Machine Learning prefieren trabajar con números, así que convirtamos las etiquetas de texto a números.\n",
    "\n",
    "Scikit-Learn provides a transformer for this task called LabelEncoder:"
   ]
  },
  {
   "cell_type": "code",
   "execution_count": 29,
   "id": "cf890fa7",
   "metadata": {},
   "outputs": [
    {
     "data": {
      "text/plain": [
       "array([1, 4, 1, ..., 0, 0, 1])"
      ]
     },
     "execution_count": 29,
     "metadata": {},
     "output_type": "execute_result"
    }
   ],
   "source": [
    "from sklearn.preprocessing import LabelEncoder\n",
    "\n",
    "encoder = LabelEncoder()\n",
    "housing_cat = housing[\"ocean_proximity\"]\n",
    "housing_cat_encoded = encoder.fit_transform(housing_cat)\n",
    "housing_cat_encoded"
   ]
  },
  {
   "cell_type": "markdown",
   "id": "f7251489",
   "metadata": {},
   "source": [
    "Scikit-Learn proporciona un codificador `OneHotEncoder` que utilizaremos para codificar las categorías como vectores `one_hot`. Tenga en cuenta que `fit_transform()` espera una matriz 2D, pero `housing_cat_encoded` es una matriz 1D, por lo que debemos reestructurarla utilizando `reshape()`:"
   ]
  },
  {
   "cell_type": "code",
   "execution_count": 30,
   "id": "ec2edf5f",
   "metadata": {},
   "outputs": [
    {
     "data": {
      "text/plain": [
       "<16512x5 sparse matrix of type '<class 'numpy.float64'>'\n",
       "\twith 16512 stored elements in Compressed Sparse Row format>"
      ]
     },
     "execution_count": 30,
     "metadata": {},
     "output_type": "execute_result"
    }
   ],
   "source": [
    "from sklearn.preprocessing import OneHotEncoder\n",
    "\n",
    "encoder = OneHotEncoder()\n",
    "housing_cat_1hot = encoder.fit_transform(housing_cat_encoded.reshape(-1,1))\n",
    "housing_cat_1hot\n",
    "\n",
    "# Observe que la salida es una matriz sparse de SciPy, \n",
    "# lo que evita utilizar grandes cantidades de memoria para almacenar, en su mayoría, ceros."
   ]
  },
  {
   "cell_type": "markdown",
   "id": "c8128a6b",
   "metadata": {},
   "source": [
    "Aunque Scikit-Learn proporciona muchos transformers útiles, tendremos que escribir el nuestros para tareas como operaciones de limpieza personalizadas o para combinar atributos específicos.  A continuación se presenta una pequeña clase que se ajusta a nuestros propósitos:"
   ]
  },
  {
   "cell_type": "code",
   "execution_count": 31,
   "id": "daf03d5a",
   "metadata": {},
   "outputs": [],
   "source": [
    "from sklearn.base import BaseEstimator, TransformerMixin\n",
    "rooms_ix, bedrooms_ix, population_ix, household_ix = 3, 4, 5, 6\n",
    "class CombinedAttributesAdder(BaseEstimator, TransformerMixin):\n",
    "    def __init__(self, add_bedrooms_per_room = True): # no *args or **kargs\n",
    "        self.add_bedrooms_per_room = add_bedrooms_per_room\n",
    "    def fit(self, X, y=None):\n",
    "        return self  # nothing else to do\n",
    "    def transform(self, X, y=None):\n",
    "        rooms_per_household = X[:, rooms_ix] / X[:, household_ix]\n",
    "        population_per_household = X[:, population_ix] / X[:, household_ix]\n",
    "        if self.add_bedrooms_per_room:\n",
    "            bedrooms_per_room = X[:, bedrooms_ix] / X[:, rooms_ix]\n",
    "            return np.c_[X, rooms_per_household, population_per_household,\n",
    "                         bedrooms_per_room]\n",
    "        else:\n",
    "            return np.c_[X, rooms_per_household, population_per_household]\n",
    "attr_adder = CombinedAttributesAdder(add_bedrooms_per_room=False)\n",
    "housing_extra_attribs = attr_adder.transform(housing.values)"
   ]
  },
  {
   "cell_type": "markdown",
   "id": "521aa731",
   "metadata": {},
   "source": [
    "Hay muchos pasos de transformación de datos que necesitan ser ejecutados en el orden correcto. Afortunadamente, Scikit-Learn proporciona la clase `Pipeline` para ayudar con tales secuencias de transformaciones.\n",
    "\n",
    "A continuación, se presenta un pipeline que maneja tanto atributos numéricos como atributos categóricos:"
   ]
  },
  {
   "cell_type": "code",
   "execution_count": 32,
   "id": "c2bfe804",
   "metadata": {},
   "outputs": [],
   "source": [
    "from sklearn.pipeline import Pipeline\n",
    "from sklearn.preprocessing import StandardScaler\n",
    "from sklearn.pipeline import FeatureUnion\n",
    "from sklearn_features.transformers import DataFrameSelector\n",
    "\n",
    "num_attribs = list(housing_num)\n",
    "cat_attribs = [\"ocean_proximity\"]\n",
    "num_pipeline = Pipeline([\n",
    "    ('selector', DataFrameSelector(num_attribs)),\n",
    "    ('imputer', SimpleImputer(strategy=\"median\")),\n",
    "    ('attribs_adder', CombinedAttributesAdder()),\n",
    "    ('std_scaler', StandardScaler()),\n",
    "])\n",
    "cat_pipeline = Pipeline([\n",
    "    ('selector', DataFrameSelector(cat_attribs)),\n",
    "    ('one_hot_encoder', OneHotEncoder(sparse=False))\n",
    "])\n",
    "full_pipeline = FeatureUnion(transformer_list=[\n",
    "    (\"num_pipeline\", num_pipeline),\n",
    "    (\"cat_pipeline\", cat_pipeline),\n",
    "])"
   ]
  },
  {
   "cell_type": "markdown",
   "id": "66a1dbd0",
   "metadata": {},
   "source": [
    "Podemos ejecutar toda el pipeline de forma sencilla:"
   ]
  },
  {
   "cell_type": "code",
   "execution_count": 33,
   "id": "41a6a776",
   "metadata": {},
   "outputs": [],
   "source": [
    "housing_prepared = full_pipeline.fit_transform(housing)"
   ]
  },
  {
   "cell_type": "markdown",
   "id": "9103a7ce",
   "metadata": {},
   "source": [
    "---\n",
    "\n",
    "#### Ahora estamos listos para entrenar nuestros modelos de Machine Learning.\n",
    "\n",
    "---"
   ]
  },
  {
   "cell_type": "code",
   "execution_count": null,
   "id": "7ff97294",
   "metadata": {},
   "outputs": [
    {
     "name": "stdout",
     "output_type": "stream",
     "text": [
      "Model:LinearRegression()\n",
      "Best hyperparameters:\n",
      "{'copy_X': True, 'fit_intercept': True, 'n_jobs': -1, 'positive': False}\n",
      "RMSE: 69077.32049039399\n",
      "\n",
      "\n",
      "Model:DecisionTreeRegressor()\n",
      "Best hyperparameters:\n",
      "{'ccp_alpha': 0.3, 'criterion': 'squared_error', 'max_features': 8}\n",
      "RMSE: 70441.84413379607\n",
      "\n",
      "\n"
     ]
    }
   ],
   "source": [
    "# Utilizaremos los siguientes regresores de scikit-learn.\n",
    "from sklearn.linear_model import LinearRegression\n",
    "from sklearn.tree import DecisionTreeRegressor\n",
    "from sklearn.ensemble import RandomForestRegressor\n",
    "\n",
    "# Utilizaremos GridSearch para encontrar los mejores hiperparámetros.\n",
    "from sklearn.model_selection import GridSearchCV\n",
    "\n",
    "# La siguiente función recibe una lista de regresores y una lista de param_grids,\n",
    "# y los utiliza para realizar un GridSearch para cada modelo. Después, imprime\n",
    "# el nombre de cada regresor, sus mejores hiperparámetros y el mejor RMSE obtenido.\n",
    "def finetune(regressors, grids):\n",
    "    grid_index = 0\n",
    "    for reg in regressors:\n",
    "        reg.fit(housing_prepared, housing_labels)\n",
    "        grid_search = GridSearchCV(reg, grids[grid_index], cv=5, scoring='neg_mean_squared_error')\n",
    "        grid_search.fit(housing_prepared, housing_labels)\n",
    "        print(\"Model:\" + str(reg) + \"\\nBest hyperparameters:\\n\" + str(grid_search.best_params_) + \n",
    "              \"\\nRMSE: \" +  str(np.sqrt(-grid_search.best_score_)))\n",
    "        if(grid_index != len(grids)-1):\n",
    "            print(\"\\n\")\n",
    "        grid_index += 1\n",
    "\n",
    "# Itareremos sobre la siguiente lista con nuestros regresores:\n",
    "regressors = [LinearRegression(),\n",
    "              DecisionTreeRegressor(),\n",
    "              RandomForestRegressor()\n",
    "]\n",
    "\n",
    "# Se genera una lista con los hiperparámetros a considerar para cada modelo.\n",
    "grids = [\n",
    "    {'fit_intercept': [True, False], 'n_jobs': [-1], 'copy_X': [True, False], 'positive': [True, False]},\n",
    "    {'max_features': [2,4,6,8], 'ccp_alpha': [0.0,0.3,0.6,0.9],\n",
    "     'criterion': [\"poisson\", \"squared_error\", \"absolute_error\", \"friedman_mse\"]},\n",
    "    [{'n_estimators': [10,30,90], 'max_features': [2,4,6,8], 'ccp_alpha': [0.0,0.3,0.6,0.9]},\n",
    "     {'bootstrap': [False], 'n_estimators': [10,30,90], \n",
    "      'max_features':[2,4,6,8], 'ccp_alpha': [0.0,0.3,0.6,0.9]}]\n",
    "]\n",
    "\n",
    "# Por último, llamamos a la función definida anteriormente.\n",
    "finetune(regressors, grids)"
   ]
  },
  {
   "cell_type": "markdown",
   "id": "64588591",
   "metadata": {},
   "source": [
    "Hemos finalizado con el entrenamiento de nuestros modelos. Basándonos en el RMSE obtenido por cada regresor, podemos determinar que el modelo que ha resultado más adecuado para este problema es el Random Forest, con un RMSE de \n",
    "\n",
    "El Random Forest es un algoritmo de Machine Learning flexible y fácil de usar que produce, incluso sin el ajuste de los hiperparámetros, un gran resultado la mayoría de las veces. Por su sencillez y diversidad, es uno de los algoritmos de Machine Learning más utilizados. "
   ]
  }
 ],
 "metadata": {
  "kernelspec": {
   "display_name": "Python 3 (ipykernel)",
   "language": "python",
   "name": "python3"
  },
  "language_info": {
   "codemirror_mode": {
    "name": "ipython",
    "version": 3
   },
   "file_extension": ".py",
   "mimetype": "text/x-python",
   "name": "python",
   "nbconvert_exporter": "python",
   "pygments_lexer": "ipython3",
   "version": "3.9.7"
  }
 },
 "nbformat": 4,
 "nbformat_minor": 5
}
